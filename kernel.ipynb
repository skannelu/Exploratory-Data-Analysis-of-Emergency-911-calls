{
  "cells": [
    {
      "metadata": {
        "_uuid": "8f2839f25d086af736a60e9eeb907d3b93b6e0e5",
        "_cell_guid": "b1076dfc-b9ad-4769-8c92-a6c4dae69d19",
        "trusted": true
      },
      "cell_type": "code",
      "source": "# This Python 3 environment comes with many helpful analytics libraries installed\n# It is defined by the kaggle/python docker image: https://github.com/kaggle/docker-python\n# For example, here's several helpful packages to load in \n\nimport numpy as np # linear algebra\nimport pandas as pd # data processing, CSV file I/O (e.g. pd.read_csv)\n\n# Input data files are available in the \"../input/\" directory.\n# For example, running this (by clicking run or pressing Shift+Enter) will list the files in the input directory\n\nimport os\nprint(os.listdir(\"../input\"))\n\n# Any results you write to the current directory are saved as output.",
      "execution_count": null,
      "outputs": []
    },
    {
      "metadata": {
        "_cell_guid": "79c7e3d0-c299-4dcb-8224-4455121ee9b0",
        "_uuid": "d629ff2d2480ee46fbb7e2d37f6b5fab8052498a",
        "trusted": true,
        "scrolled": true
      },
      "cell_type": "code",
      "source": "#Import numpy, pandas, visualization libraries and set %matplotlib inline\nimport numpy as np\nimport pandas as pd\nimport matplotlib.pyplot as plt\nimport seaborn as sns\nsns.set_style('whitegrid')\n%matplotlib inline\n# Read in the csv file as a dataframe called df\ndf = pd.read_csv('../input/911.csv')\n#Exploratory Data Analysis---------------\ndf.info()\ndf.head(10)\n# Top 10 zipcodes for 911 calls\ndf['zip'].value_counts().head(10)\n#Top 10 townships for 911 calls\ndf['twp'].value_counts().head(10)\n#Top 10 Most occurred emergencies for 911 calls\ndf['title'].value_counts().head(10)\n# Most of the Durations for the occured emergencies 911 calls\ndf['timeStamp'].value_counts().head(10)\n#Creating a new column 'Reason'\ndf['Reason'] = df['title'].apply(lambda title: title.split(':')[0])\n#Most occured types of emergency 911 calls\ndf['Reason'].value_counts()\n#Countplot of 911 calls by 'Reason' column\nsns.countplot(x='Reason',data=df,palette='viridis')\n#Converting timeStamp column from str type to DateTime objects\ntype(df['timeStamp'].iloc[0])\ndf['timeStamp'] = pd.to_datetime(df['timeStamp'])\n#Creating 3 columns from timeStamp column\ndf['Hour'] = df['timeStamp'].apply(lambda time: time.hour)\ndf['Month'] = df['timeStamp'].apply(lambda time: time.month)\ndf['Day of Week'] = df['timeStamp'].apply(lambda time: time.dayofweek)\n# Months where most of emergency 911 calls occured\ndf['Hour'].value_counts()\n# Day where most of emergency 911 calls occured \ndf['Month'].value_counts()\n# Hour where most of emergency 911 calls occured \ndf['Day of Week'].value_counts()\ndmap = {0:'Mon',1:'Tue',2:'Wed',3:'Thu',4:'Fri',5:'Sat',6:'Sun'}\ndf['Day of Week'] = df['Day of Week'].map(dmap)\nsns.countplot(x='Day of Week',data=df,hue='Reason',palette='viridis')\n#Re-locating the legend\nplt.legend(bbox_to_anchor=(1.05,1), loc=2, borderaxespad=0.)\n#Grouping the dataframe by Month column\nbyMonth = df.groupby('Month').count()\nbyMonth.head()\n#Simple plot to indicate the count of calls per month\n#byMonth['lat'].plot()\nsns.countplot(x='Month', data=df,palette='viridis') \nsns.lmplot(x='Month',y='twp',data=byMonth.reset_index())\nt = df['timeStamp'].iloc[0]\ndf['Date'] = df['timeStamp'].apply(lambda t:t.date())\n#byDate = df.groupby('Date').count()\n#byDate['lat'].plot()\n# Separate plots representing type of emergency for the 911 calls\n#df[df['Reason']=='Traffic'].groupby('Date').count()['lat'].plot()\n#plt.title('Traffic')\n#plt.tight_layout()\n#df[df['Reason']=='Fire'].groupby('Date').count()['lat'].plot()\n#plt.title('Fire')\n#plt.tight_layout()\n#df[df['Reason']=='EMS'].groupby('Date').count()['lat'].plot()\n#plt.title('EMS')\n#plt.tight_layout()\n\n#Matrix form sing unstack() method\ndayHour = df.groupby(by=['Day of Week','Hour']).count()['Reason'].unstack()\n#Heatmap\nplt.figure(figsize=(12,6))\nsns.heatmap(dayHour,cmap='viridis')\n#Clustermap\nsns.clustermap(dayHour,cmap='coolwarm')\n\ndayMonth = df.groupby(by=['Day of Week','Month']).count()['Reason'].unstack()\n\n#Heatmap for the data with Month as the column\nplt.figure(figsize=(12,6))\nsns.heatmap(dayMonth,cmap='viridis')\n#Clustermap for the data with Month as the column\nsns.clustermap(dayMonth,cmap='coolwarm')\n",
      "execution_count": null,
      "outputs": []
    },
    {
      "metadata": {
        "trusted": true,
        "_uuid": "a7c0117c900349d6c2dd255cf40d291b165ac266"
      },
      "cell_type": "code",
      "source": "",
      "execution_count": null,
      "outputs": []
    },
    {
      "metadata": {
        "trusted": true,
        "_uuid": "612b0529b2911ded453f81e559bc7869d9f8f1c5"
      },
      "cell_type": "code",
      "source": "",
      "execution_count": null,
      "outputs": []
    }
  ],
  "metadata": {
    "kernelspec": {
      "display_name": "Python 3",
      "language": "python",
      "name": "python3"
    },
    "language_info": {
      "name": "python",
      "version": "3.6.6",
      "mimetype": "text/x-python",
      "codemirror_mode": {
        "name": "ipython",
        "version": 3
      },
      "pygments_lexer": "ipython3",
      "nbconvert_exporter": "python",
      "file_extension": ".py"
    }
  },
  "nbformat": 4,
  "nbformat_minor": 1
}